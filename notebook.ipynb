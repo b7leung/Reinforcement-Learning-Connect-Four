{
 "cells": [
  {
   "cell_type": "code",
   "execution_count": 2,
   "metadata": {
    "ExecuteTime": {
     "end_time": "2020-06-10T03:46:03.120402Z",
     "start_time": "2020-06-10T03:46:03.099802Z"
    }
   },
   "outputs": [
    {
     "data": {
      "text/html": [
       "<style>.container { width:90% !important; }</style>"
      ],
      "text/plain": [
       "<IPython.core.display.HTML object>"
      ]
     },
     "metadata": {},
     "output_type": "display_data"
    }
   ],
   "source": [
    "from IPython.core.display import display, HTML\n",
    "display(HTML(\"<style>.container { width:90% !important; }</style>\"))\n",
    "\n",
    "%load_ext autoreload\n",
    "%autoreload 2\n"
   ]
  },
  {
   "cell_type": "code",
   "execution_count": 3,
   "metadata": {
    "ExecuteTime": {
     "end_time": "2020-06-10T03:46:05.297002Z",
     "start_time": "2020-06-10T03:46:04.084320Z"
    }
   },
   "outputs": [],
   "source": [
    "import numpy as np\n",
    "import pprint\n",
    "import random\n",
    "import pandas as pd\n",
    "import matplotlib.pyplot as plt\n",
    "\n",
    "import connect_four\n",
    "import q_learning"
   ]
  },
  {
   "cell_type": "code",
   "execution_count": null,
   "metadata": {
    "ExecuteTime": {
     "start_time": "2020-06-10T03:38:45.374Z"
    },
    "scrolled": true
   },
   "outputs": [
    {
     "name": "stderr",
     "output_type": "stream",
     "text": [
      "  0%|          | 90/1000000 [00:00<35:59, 463.11it/s]"
     ]
    },
    {
     "name": "stdout",
     "output_type": "stream",
     "text": [
      "{'iteration': 0, 'win_rate': 0.54, 'tie_rate': 0.07, 'Q_function_size': 163, 'unexplored_states_rate': 0.8810289389067524}\n"
     ]
    },
    {
     "name": "stderr",
     "output_type": "stream",
     "text": [
      "  1%|          | 10267/1000000 [00:05<08:13, 2006.60it/s]"
     ]
    },
    {
     "name": "stdout",
     "output_type": "stream",
     "text": [
      "{'iteration': 10000, 'win_rate': 0.51, 'tie_rate': 0.18, 'Q_function_size': 429961, 'unexplored_states_rate': 0.5227743271221532}\n"
     ]
    },
    {
     "name": "stderr",
     "output_type": "stream",
     "text": [
      "  2%|▏         | 20323/1000000 [00:10<07:28, 2186.33it/s]"
     ]
    },
    {
     "name": "stdout",
     "output_type": "stream",
     "text": [
      "{'iteration': 20000, 'win_rate': 0.59, 'tie_rate': 0.04, 'Q_function_size': 778723, 'unexplored_states_rate': 0.4456140350877193}\n"
     ]
    },
    {
     "name": "stderr",
     "output_type": "stream",
     "text": [
      "  3%|▎         | 30294/1000000 [00:14<07:57, 2031.20it/s]"
     ]
    },
    {
     "name": "stdout",
     "output_type": "stream",
     "text": [
      "{'iteration': 30000, 'win_rate': 0.6, 'tie_rate': 0.05, 'Q_function_size': 1095618, 'unexplored_states_rate': 0.4187358916478555}\n"
     ]
    },
    {
     "name": "stderr",
     "output_type": "stream",
     "text": [
      "  4%|▍         | 40163/1000000 [00:19<10:53, 1468.83it/s]"
     ]
    },
    {
     "name": "stdout",
     "output_type": "stream",
     "text": [
      "{'iteration': 40000, 'win_rate': 0.48, 'tie_rate': 0.12, 'Q_function_size': 1394377, 'unexplored_states_rate': 0.43135135135135133}\n"
     ]
    },
    {
     "name": "stderr",
     "output_type": "stream",
     "text": [
      "  5%|▌         | 50321/1000000 [00:24<08:15, 1914.90it/s]"
     ]
    },
    {
     "name": "stdout",
     "output_type": "stream",
     "text": [
      "{'iteration': 50000, 'win_rate': 0.56, 'tie_rate': 0.13, 'Q_function_size': 1679255, 'unexplored_states_rate': 0.40795454545454546}\n"
     ]
    },
    {
     "name": "stderr",
     "output_type": "stream",
     "text": [
      "  6%|▌         | 60253/1000000 [00:29<07:11, 2177.18it/s]"
     ]
    },
    {
     "name": "stdout",
     "output_type": "stream",
     "text": [
      "{'iteration': 60000, 'win_rate': 0.62, 'tie_rate': 0.12, 'Q_function_size': 1953470, 'unexplored_states_rate': 0.40748898678414097}\n"
     ]
    },
    {
     "name": "stderr",
     "output_type": "stream",
     "text": [
      "  7%|▋         | 70410/1000000 [00:34<08:46, 1766.81it/s]"
     ]
    },
    {
     "name": "stdout",
     "output_type": "stream",
     "text": [
      "{'iteration': 70000, 'win_rate': 0.58, 'tie_rate': 0.06, 'Q_function_size': 2214395, 'unexplored_states_rate': 0.3793490460157127}\n"
     ]
    },
    {
     "name": "stderr",
     "output_type": "stream",
     "text": [
      "  8%|▊         | 80442/1000000 [00:40<08:17, 1847.82it/s]"
     ]
    },
    {
     "name": "stdout",
     "output_type": "stream",
     "text": [
      "{'iteration': 80000, 'win_rate': 0.53, 'tie_rate': 0.12, 'Q_function_size': 2468363, 'unexplored_states_rate': 0.387458006718925}\n"
     ]
    },
    {
     "name": "stderr",
     "output_type": "stream",
     "text": [
      "  9%|▉         | 90369/1000000 [00:45<09:56, 1524.87it/s]"
     ]
    },
    {
     "name": "stdout",
     "output_type": "stream",
     "text": [
      "{'iteration': 90000, 'win_rate': 0.57, 'tie_rate': 0.08, 'Q_function_size': 2718014, 'unexplored_states_rate': 0.37814207650273224}\n"
     ]
    },
    {
     "name": "stderr",
     "output_type": "stream",
     "text": [
      " 10%|█         | 100048/1000000 [00:50<07:01, 2133.44it/s]"
     ]
    },
    {
     "name": "stdout",
     "output_type": "stream",
     "text": [
      "{'iteration': 100000, 'win_rate': 0.55, 'tie_rate': 0.15, 'Q_function_size': 2960231, 'unexplored_states_rate': 0.37513513513513513}\n"
     ]
    },
    {
     "name": "stderr",
     "output_type": "stream",
     "text": [
      " 11%|█         | 110279/1000000 [00:56<07:58, 1858.39it/s]"
     ]
    },
    {
     "name": "stdout",
     "output_type": "stream",
     "text": [
      "{'iteration': 110000, 'win_rate': 0.6, 'tie_rate': 0.06, 'Q_function_size': 3195299, 'unexplored_states_rate': 0.3380281690140845}\n"
     ]
    },
    {
     "name": "stderr",
     "output_type": "stream",
     "text": [
      " 12%|█▏        | 120157/1000000 [01:01<06:46, 2165.82it/s]"
     ]
    },
    {
     "name": "stdout",
     "output_type": "stream",
     "text": [
      "{'iteration': 120000, 'win_rate': 0.49, 'tie_rate': 0.13, 'Q_function_size': 3425700, 'unexplored_states_rate': 0.35}\n"
     ]
    },
    {
     "name": "stderr",
     "output_type": "stream",
     "text": [
      " 13%|█▎        | 130464/1000000 [01:07<07:16, 1992.14it/s]"
     ]
    },
    {
     "name": "stdout",
     "output_type": "stream",
     "text": [
      "{'iteration': 130000, 'win_rate': 0.51, 'tie_rate': 0.1, 'Q_function_size': 3652826, 'unexplored_states_rate': 0.3420479302832244}\n"
     ]
    },
    {
     "name": "stderr",
     "output_type": "stream",
     "text": [
      " 14%|█▍        | 140499/1000000 [01:12<06:28, 2214.54it/s]"
     ]
    },
    {
     "name": "stdout",
     "output_type": "stream",
     "text": [
      "{'iteration': 140000, 'win_rate': 0.59, 'tie_rate': 0.15, 'Q_function_size': 3877280, 'unexplored_states_rate': 0.3488120950323974}\n"
     ]
    },
    {
     "name": "stderr",
     "output_type": "stream",
     "text": [
      " 15%|█▌        | 150140/1000000 [01:18<06:42, 2113.21it/s]"
     ]
    },
    {
     "name": "stdout",
     "output_type": "stream",
     "text": [
      "{'iteration': 150000, 'win_rate': 0.51, 'tie_rate': 0.08, 'Q_function_size': 4096231, 'unexplored_states_rate': 0.315668202764977}\n"
     ]
    },
    {
     "name": "stderr",
     "output_type": "stream",
     "text": [
      " 16%|█▌        | 160401/1000000 [01:24<09:12, 1520.17it/s]"
     ]
    },
    {
     "name": "stdout",
     "output_type": "stream",
     "text": [
      "{'iteration': 160000, 'win_rate': 0.55, 'tie_rate': 0.06, 'Q_function_size': 4312929, 'unexplored_states_rate': 0.3402854006586169}\n"
     ]
    },
    {
     "name": "stderr",
     "output_type": "stream",
     "text": [
      " 17%|█▋        | 170455/1000000 [01:29<09:16, 1489.77it/s]"
     ]
    },
    {
     "name": "stdout",
     "output_type": "stream",
     "text": [
      "{'iteration': 170000, 'win_rate': 0.64, 'tie_rate': 0.07, 'Q_function_size': 4523804, 'unexplored_states_rate': 0.3223981900452489}\n"
     ]
    },
    {
     "name": "stderr",
     "output_type": "stream",
     "text": [
      " 18%|█▊        | 180039/1000000 [01:35<06:48, 2005.41it/s]"
     ]
    },
    {
     "name": "stdout",
     "output_type": "stream",
     "text": [
      "{'iteration': 180000, 'win_rate': 0.58, 'tie_rate': 0.1, 'Q_function_size': 4729479, 'unexplored_states_rate': 0.343042071197411}\n"
     ]
    },
    {
     "name": "stderr",
     "output_type": "stream",
     "text": [
      " 19%|█▉        | 190261/1000000 [01:41<06:58, 1934.05it/s]"
     ]
    },
    {
     "name": "stdout",
     "output_type": "stream",
     "text": [
      "{'iteration': 190000, 'win_rate': 0.56, 'tie_rate': 0.11, 'Q_function_size': 4935675, 'unexplored_states_rate': 0.3086560364464693}\n"
     ]
    },
    {
     "name": "stderr",
     "output_type": "stream",
     "text": [
      " 20%|██        | 200280/1000000 [01:47<07:27, 1788.08it/s]"
     ]
    },
    {
     "name": "stdout",
     "output_type": "stream",
     "text": [
      "{'iteration': 200000, 'win_rate': 0.55, 'tie_rate': 0.09, 'Q_function_size': 5137541, 'unexplored_states_rate': 0.3187294633077766}\n"
     ]
    },
    {
     "name": "stderr",
     "output_type": "stream",
     "text": [
      " 21%|██        | 210311/1000000 [01:53<11:24, 1153.90it/s]"
     ]
    },
    {
     "name": "stdout",
     "output_type": "stream",
     "text": [
      "{'iteration': 210000, 'win_rate': 0.6, 'tie_rate': 0.12, 'Q_function_size': 5335855, 'unexplored_states_rate': 0.3390374331550802}\n"
     ]
    },
    {
     "name": "stderr",
     "output_type": "stream",
     "text": [
      " 22%|██▏       | 220134/1000000 [01:59<06:21, 2043.64it/s]"
     ]
    },
    {
     "name": "stdout",
     "output_type": "stream",
     "text": [
      "{'iteration': 220000, 'win_rate': 0.55, 'tie_rate': 0.08, 'Q_function_size': 5535159, 'unexplored_states_rate': 0.3019911504424779}\n"
     ]
    },
    {
     "name": "stderr",
     "output_type": "stream",
     "text": [
      " 23%|██▎       | 230406/1000000 [02:06<06:24, 2002.31it/s]"
     ]
    },
    {
     "name": "stdout",
     "output_type": "stream",
     "text": [
      "{'iteration': 230000, 'win_rate': 0.67, 'tie_rate': 0.07, 'Q_function_size': 5731903, 'unexplored_states_rate': 0.2822677925211098}\n"
     ]
    },
    {
     "name": "stderr",
     "output_type": "stream",
     "text": [
      " 24%|██▍       | 240294/1000000 [02:12<09:49, 1289.30it/s]"
     ]
    },
    {
     "name": "stdout",
     "output_type": "stream",
     "text": [
      "{'iteration': 240000, 'win_rate': 0.63, 'tie_rate': 0.08, 'Q_function_size': 5927209, 'unexplored_states_rate': 0.2954279015240328}\n"
     ]
    },
    {
     "name": "stderr",
     "output_type": "stream",
     "text": [
      " 25%|██▌       | 250400/1000000 [02:18<05:56, 2103.20it/s]"
     ]
    },
    {
     "name": "stdout",
     "output_type": "stream",
     "text": [
      "{'iteration': 250000, 'win_rate': 0.71, 'tie_rate': 0.02, 'Q_function_size': 6117694, 'unexplored_states_rate': 0.3037383177570093}\n"
     ]
    },
    {
     "name": "stderr",
     "output_type": "stream",
     "text": [
      " 26%|██▌       | 260355/1000000 [02:24<09:13, 1335.82it/s]"
     ]
    },
    {
     "name": "stdout",
     "output_type": "stream",
     "text": [
      "{'iteration': 260000, 'win_rate': 0.49, 'tie_rate': 0.11, 'Q_function_size': 6306568, 'unexplored_states_rate': 0.29284903518728717}\n"
     ]
    },
    {
     "name": "stderr",
     "output_type": "stream",
     "text": [
      " 27%|██▋       | 270415/1000000 [02:30<08:09, 1489.55it/s]"
     ]
    },
    {
     "name": "stdout",
     "output_type": "stream",
     "text": [
      "{'iteration': 270000, 'win_rate': 0.62, 'tie_rate': 0.08, 'Q_function_size': 6492622, 'unexplored_states_rate': 0.29021372328458944}\n"
     ]
    },
    {
     "name": "stderr",
     "output_type": "stream",
     "text": [
      " 28%|██▊       | 280445/1000000 [02:36<05:35, 2145.16it/s]"
     ]
    },
    {
     "name": "stdout",
     "output_type": "stream",
     "text": [
      "{'iteration': 280000, 'win_rate': 0.58, 'tie_rate': 0.15, 'Q_function_size': 6675452, 'unexplored_states_rate': 0.2898052691867125}\n"
     ]
    },
    {
     "name": "stderr",
     "output_type": "stream",
     "text": [
      " 29%|██▊       | 286087/1000000 [02:40<05:53, 2017.94it/s]"
     ]
    }
   ],
   "source": [
    "q = q_learning.QLearning(5,5)\n",
    "episode = q.generate_episode()\n",
    "df = q.train(\"Q\",1,0.9, 0.2, num_iterations=1000000, test_every=10000, experiment_name = \"asdf\")"
   ]
  },
  {
   "cell_type": "code",
   "execution_count": 6,
   "metadata": {
    "ExecuteTime": {
     "end_time": "2020-06-10T03:47:29.455865Z",
     "start_time": "2020-06-10T03:47:29.433399Z"
    }
   },
   "outputs": [
    {
     "data": {
      "text/html": [
       "<div>\n",
       "<style scoped>\n",
       "    .dataframe tbody tr th:only-of-type {\n",
       "        vertical-align: middle;\n",
       "    }\n",
       "\n",
       "    .dataframe tbody tr th {\n",
       "        vertical-align: top;\n",
       "    }\n",
       "\n",
       "    .dataframe thead th {\n",
       "        text-align: right;\n",
       "    }\n",
       "</style>\n",
       "<table border=\"1\" class=\"dataframe\">\n",
       "  <thead>\n",
       "    <tr style=\"text-align: right;\">\n",
       "      <th></th>\n",
       "      <th>Q_function_size</th>\n",
       "      <th>iteration</th>\n",
       "      <th>tie_rate</th>\n",
       "      <th>unexplored_states_rate</th>\n",
       "      <th>win_rate</th>\n",
       "    </tr>\n",
       "  </thead>\n",
       "  <tbody>\n",
       "    <tr>\n",
       "      <th>0</th>\n",
       "      <td>75.0</td>\n",
       "      <td>0.0</td>\n",
       "      <td>0.05</td>\n",
       "      <td>0.881264</td>\n",
       "      <td>0.54</td>\n",
       "    </tr>\n",
       "    <tr>\n",
       "      <th>1</th>\n",
       "      <td>430405.0</td>\n",
       "      <td>10000.0</td>\n",
       "      <td>0.15</td>\n",
       "      <td>0.501057</td>\n",
       "      <td>0.57</td>\n",
       "    </tr>\n",
       "    <tr>\n",
       "      <th>2</th>\n",
       "      <td>784271.0</td>\n",
       "      <td>20000.0</td>\n",
       "      <td>0.05</td>\n",
       "      <td>0.448889</td>\n",
       "      <td>0.52</td>\n",
       "    </tr>\n",
       "    <tr>\n",
       "      <th>3</th>\n",
       "      <td>1100609.0</td>\n",
       "      <td>30000.0</td>\n",
       "      <td>0.08</td>\n",
       "      <td>0.404789</td>\n",
       "      <td>0.51</td>\n",
       "    </tr>\n",
       "    <tr>\n",
       "      <th>4</th>\n",
       "      <td>1399106.0</td>\n",
       "      <td>40000.0</td>\n",
       "      <td>0.12</td>\n",
       "      <td>0.431203</td>\n",
       "      <td>0.45</td>\n",
       "    </tr>\n",
       "    <tr>\n",
       "      <th>5</th>\n",
       "      <td>1684353.0</td>\n",
       "      <td>50000.0</td>\n",
       "      <td>0.10</td>\n",
       "      <td>0.405221</td>\n",
       "      <td>0.52</td>\n",
       "    </tr>\n",
       "  </tbody>\n",
       "</table>\n",
       "</div>"
      ],
      "text/plain": [
       "   Q_function_size  iteration  tie_rate  unexplored_states_rate  win_rate\n",
       "0             75.0        0.0      0.05                0.881264      0.54\n",
       "1         430405.0    10000.0      0.15                0.501057      0.57\n",
       "2         784271.0    20000.0      0.05                0.448889      0.52\n",
       "3        1100609.0    30000.0      0.08                0.404789      0.51\n",
       "4        1399106.0    40000.0      0.12                0.431203      0.45\n",
       "5        1684353.0    50000.0      0.10                0.405221      0.52"
      ]
     },
     "execution_count": 6,
     "metadata": {},
     "output_type": "execute_result"
    }
   ],
   "source": [
    "experiment_name = \"first_experiment3\"\n",
    "df_path = \"experiments/{}/training_df.p\".format(experiment_name)\n",
    "f = pd.read_pickle(df_path)\n",
    "f"
   ]
  },
  {
   "cell_type": "code",
   "execution_count": 25,
   "metadata": {
    "ExecuteTime": {
     "end_time": "2020-06-10T03:33:36.315857Z",
     "start_time": "2020-06-10T03:33:36.298805Z"
    }
   },
   "outputs": [
    {
     "data": {
      "text/plain": [
       "0.237424348690353"
      ]
     },
     "execution_count": 25,
     "metadata": {},
     "output_type": "execute_result"
    }
   ],
   "source": []
  },
  {
   "cell_type": "code",
   "execution_count": null,
   "metadata": {},
   "outputs": [],
   "source": []
  },
  {
   "cell_type": "code",
   "execution_count": null,
   "metadata": {},
   "outputs": [],
   "source": []
  },
  {
   "cell_type": "code",
   "execution_count": null,
   "metadata": {},
   "outputs": [],
   "source": []
  },
  {
   "cell_type": "code",
   "execution_count": null,
   "metadata": {},
   "outputs": [],
   "source": []
  },
  {
   "cell_type": "code",
   "execution_count": null,
   "metadata": {},
   "outputs": [],
   "source": []
  }
 ],
 "metadata": {
  "kernelspec": {
   "display_name": "Python 3",
   "language": "python",
   "name": "python3"
  },
  "language_info": {
   "codemirror_mode": {
    "name": "ipython",
    "version": 3
   },
   "file_extension": ".py",
   "mimetype": "text/x-python",
   "name": "python",
   "nbconvert_exporter": "python",
   "pygments_lexer": "ipython3",
   "version": "3.6.9"
  }
 },
 "nbformat": 4,
 "nbformat_minor": 4
}
