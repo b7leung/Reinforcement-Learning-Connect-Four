{
 "cells": [
  {
   "cell_type": "code",
   "execution_count": 2,
   "metadata": {
    "ExecuteTime": {
     "end_time": "2020-06-10T00:44:30.108020Z",
     "start_time": "2020-06-10T00:44:30.078691Z"
    }
   },
   "outputs": [
    {
     "data": {
      "text/html": [
       "<style>.container { width:90% !important; }</style>"
      ],
      "text/plain": [
       "<IPython.core.display.HTML object>"
      ]
     },
     "metadata": {},
     "output_type": "display_data"
    }
   ],
   "source": [
    "from IPython.core.display import display, HTML\n",
    "display(HTML(\"<style>.container { width:90% !important; }</style>\"))\n",
    "\n",
    "%load_ext autoreload\n",
    "%autoreload 2\n"
   ]
  },
  {
   "cell_type": "code",
   "execution_count": 13,
   "metadata": {
    "ExecuteTime": {
     "end_time": "2020-06-10T02:00:52.719505Z",
     "start_time": "2020-06-10T02:00:51.983680Z"
    }
   },
   "outputs": [],
   "source": [
    "import numpy as np\n",
    "import pprint\n",
    "import random\n",
    "import pandas as pd\n",
    "import matplotlib.pyplot as plt\n",
    "\n",
    "import connect_four\n",
    "import q_learning"
   ]
  },
  {
   "cell_type": "code",
   "execution_count": 17,
   "metadata": {
    "ExecuteTime": {
     "end_time": "2020-06-10T02:05:07.940712Z",
     "start_time": "2020-06-10T02:04:17.760838Z"
    },
    "scrolled": false
   },
   "outputs": [
    {
     "name": "stdout",
     "output_type": "stream",
     "text": [
      "{'iteration': 0, 'win_rate': 0.51, 'Q_function_size': 152, 'unexplored_states_rate': 0.8855291576673866}\n",
      "{'iteration': 10000, 'win_rate': 0.55, 'Q_function_size': 430149, 'unexplored_states_rate': 0.5101822079314041}\n",
      "{'iteration': 20000, 'win_rate': 0.5, 'Q_function_size': 775955, 'unexplored_states_rate': 0.46336206896551724}\n",
      "{'iteration': 30000, 'win_rate': 0.58, 'Q_function_size': 1088417, 'unexplored_states_rate': 0.4532608695652174}\n",
      "{'iteration': 40000, 'win_rate': 0.68, 'Q_function_size': 1382785, 'unexplored_states_rate': 0.43387978142076505}\n",
      "{'iteration': 50000, 'win_rate': 0.58, 'Q_function_size': 1662391, 'unexplored_states_rate': 0.38742857142857146}\n",
      "{'iteration': 60000, 'win_rate': 0.48, 'Q_function_size': 1931870, 'unexplored_states_rate': 0.3789237668161435}\n",
      "{'iteration': 70000, 'win_rate': 0.51, 'Q_function_size': 2194136, 'unexplored_states_rate': 0.35573580533024335}\n",
      "{'iteration': 80000, 'win_rate': 0.66, 'Q_function_size': 2448689, 'unexplored_states_rate': 0.34515366430260047}\n",
      "{'iteration': 90000, 'win_rate': 0.49, 'Q_function_size': 2694228, 'unexplored_states_rate': 0.37246531483457845}\n"
     ]
    }
   ],
   "source": [
    "q = q_learning.QLearning(5,5)\n",
    "episode = q.generate_episode()\n",
    "df = q.train(\"Q\",1,0.9, num_iterations=1000000, test_every=10000)"
   ]
  },
  {
   "cell_type": "code",
   "execution_count": 12,
   "metadata": {
    "ExecuteTime": {
     "end_time": "2020-06-10T00:50:24.073515Z",
     "start_time": "2020-06-10T00:50:24.056454Z"
    }
   },
   "outputs": [
    {
     "name": "stdout",
     "output_type": "stream",
     "text": [
      "((0, 0, 0, 0, 1, 0, 0), (0, 0, 0, 0, 0, 0, 0), (0, 0, 0, 0, 0, 0, 0), (0, 0, 0, 0, 0, 0, 0), (0, 0, 0, 0, 0, 0, 0), (0, 0, 0, 0, 0, 0, 0))\n"
     ]
    },
    {
     "data": {
      "text/plain": [
       "[0, 1, 2, 3, 5, 6]"
      ]
     },
     "execution_count": 12,
     "metadata": {},
     "output_type": "execute_result"
    }
   ],
   "source": [
    "c1 = connect_four.ConnectFour()\n",
    "bs = c1.board_state\n",
    "bs[0][4] = 1\n",
    "bs = tuple(tuple(a) for a in bs)\n",
    "print(bs)\n",
    "connect_four.ConnectFour.get_valid_inputs(c1.board_state)"
   ]
  },
  {
   "cell_type": "code",
   "execution_count": 9,
   "metadata": {
    "ExecuteTime": {
     "end_time": "2020-06-10T00:47:30.015202Z",
     "start_time": "2020-06-10T00:47:29.996681Z"
    }
   },
   "outputs": [
    {
     "data": {
      "text/plain": [
       "[0, 1, 2, 3, 4, 5, 6]"
      ]
     },
     "execution_count": 9,
     "metadata": {},
     "output_type": "execute_result"
    }
   ],
   "source": [
    "c1.get_curr_valid_inputs()"
   ]
  },
  {
   "cell_type": "code",
   "execution_count": null,
   "metadata": {},
   "outputs": [],
   "source": []
  },
  {
   "cell_type": "code",
   "execution_count": null,
   "metadata": {},
   "outputs": [],
   "source": []
  },
  {
   "cell_type": "code",
   "execution_count": null,
   "metadata": {},
   "outputs": [],
   "source": []
  },
  {
   "cell_type": "code",
   "execution_count": null,
   "metadata": {},
   "outputs": [],
   "source": []
  },
  {
   "cell_type": "code",
   "execution_count": null,
   "metadata": {},
   "outputs": [],
   "source": []
  }
 ],
 "metadata": {
  "kernelspec": {
   "display_name": "Python 3",
   "language": "python",
   "name": "python3"
  },
  "language_info": {
   "codemirror_mode": {
    "name": "ipython",
    "version": 3
   },
   "file_extension": ".py",
   "mimetype": "text/x-python",
   "name": "python",
   "nbconvert_exporter": "python",
   "pygments_lexer": "ipython3",
   "version": "3.7.4"
  }
 },
 "nbformat": 4,
 "nbformat_minor": 4
}
