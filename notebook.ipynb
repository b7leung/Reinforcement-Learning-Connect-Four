{
 "cells": [
  {
   "cell_type": "code",
   "execution_count": 6,
   "metadata": {
    "ExecuteTime": {
     "end_time": "2020-06-11T11:02:12.134721Z",
     "start_time": "2020-06-11T11:02:12.086881Z"
    }
   },
   "outputs": [
    {
     "data": {
      "text/html": [
       "<style>.container { width:90% !important; }</style>"
      ],
      "text/plain": [
       "<IPython.core.display.HTML object>"
      ]
     },
     "metadata": {},
     "output_type": "display_data"
    }
   ],
   "source": [
    "from IPython.core.display import display, HTML\n",
    "display(HTML(\"<style>.container { width:90% !important; }</style>\"))\n",
    "\n",
    "%load_ext autoreload\n",
    "%autoreload 2\n"
   ]
  },
  {
   "cell_type": "code",
   "execution_count": 5,
   "metadata": {
    "ExecuteTime": {
     "end_time": "2020-06-11T11:02:11.288856Z",
     "start_time": "2020-06-11T11:02:10.729623Z"
    }
   },
   "outputs": [],
   "source": [
    "import numpy as np\n",
    "import pprint\n",
    "import random\n",
    "import pandas as pd\n",
    "import matplotlib.pyplot as plt\n",
    "\n",
    "import connect_four\n",
    "import q_learning"
   ]
  },
  {
   "cell_type": "code",
   "execution_count": null,
   "metadata": {
    "ExecuteTime": {
     "start_time": "2020-06-10T03:38:45.374Z"
    },
    "scrolled": true
   },
   "outputs": [],
   "source": [
    "q = q_learning.QLearning(5,5)\n",
    "episode = q.generate_episode()\n",
    "df = q.train(\"Q\",1,0.9, 0.2, num_iterations=1000000, test_every=10000, experiment_name = \"asdf\")"
   ]
  },
  {
   "cell_type": "code",
   "execution_count": 5,
   "metadata": {
    "ExecuteTime": {
     "end_time": "2020-06-10T03:47:29.455865Z",
     "start_time": "2020-06-10T03:47:29.433399Z"
    }
   },
   "outputs": [
    {
     "data": {
      "text/html": [
       "<div>\n",
       "<style scoped>\n",
       "    .dataframe tbody tr th:only-of-type {\n",
       "        vertical-align: middle;\n",
       "    }\n",
       "\n",
       "    .dataframe tbody tr th {\n",
       "        vertical-align: top;\n",
       "    }\n",
       "\n",
       "    .dataframe thead th {\n",
       "        text-align: right;\n",
       "    }\n",
       "</style>\n",
       "<table border=\"1\" class=\"dataframe\">\n",
       "  <thead>\n",
       "    <tr style=\"text-align: right;\">\n",
       "      <th></th>\n",
       "      <th>Q_function_size</th>\n",
       "      <th>iteration</th>\n",
       "      <th>tie_rate</th>\n",
       "      <th>unexplored_states_rate</th>\n",
       "      <th>win_rate</th>\n",
       "    </tr>\n",
       "  </thead>\n",
       "  <tbody>\n",
       "    <tr>\n",
       "      <th>0</th>\n",
       "      <td>75.0</td>\n",
       "      <td>0.0</td>\n",
       "      <td>0.05</td>\n",
       "      <td>0.881264</td>\n",
       "      <td>0.54</td>\n",
       "    </tr>\n",
       "    <tr>\n",
       "      <th>1</th>\n",
       "      <td>1681949.0</td>\n",
       "      <td>50000.0</td>\n",
       "      <td>0.11</td>\n",
       "      <td>0.438095</td>\n",
       "      <td>0.61</td>\n",
       "    </tr>\n",
       "    <tr>\n",
       "      <th>2</th>\n",
       "      <td>2955782.0</td>\n",
       "      <td>100000.0</td>\n",
       "      <td>0.11</td>\n",
       "      <td>0.323133</td>\n",
       "      <td>0.59</td>\n",
       "    </tr>\n",
       "    <tr>\n",
       "      <th>3</th>\n",
       "      <td>4088422.0</td>\n",
       "      <td>150000.0</td>\n",
       "      <td>0.03</td>\n",
       "      <td>0.321918</td>\n",
       "      <td>0.52</td>\n",
       "    </tr>\n",
       "    <tr>\n",
       "      <th>4</th>\n",
       "      <td>5127325.0</td>\n",
       "      <td>200000.0</td>\n",
       "      <td>0.12</td>\n",
       "      <td>0.284890</td>\n",
       "      <td>0.65</td>\n",
       "    </tr>\n",
       "    <tr>\n",
       "      <th>5</th>\n",
       "      <td>6098030.0</td>\n",
       "      <td>250000.0</td>\n",
       "      <td>0.09</td>\n",
       "      <td>0.285714</td>\n",
       "      <td>0.60</td>\n",
       "    </tr>\n",
       "    <tr>\n",
       "      <th>6</th>\n",
       "      <td>7016542.0</td>\n",
       "      <td>300000.0</td>\n",
       "      <td>0.09</td>\n",
       "      <td>0.271186</td>\n",
       "      <td>0.58</td>\n",
       "    </tr>\n",
       "    <tr>\n",
       "      <th>7</th>\n",
       "      <td>7893249.0</td>\n",
       "      <td>350000.0</td>\n",
       "      <td>0.09</td>\n",
       "      <td>0.275822</td>\n",
       "      <td>0.64</td>\n",
       "    </tr>\n",
       "    <tr>\n",
       "      <th>8</th>\n",
       "      <td>8725296.0</td>\n",
       "      <td>400000.0</td>\n",
       "      <td>0.13</td>\n",
       "      <td>0.253179</td>\n",
       "      <td>0.61</td>\n",
       "    </tr>\n",
       "    <tr>\n",
       "      <th>9</th>\n",
       "      <td>9528309.0</td>\n",
       "      <td>450000.0</td>\n",
       "      <td>0.06</td>\n",
       "      <td>0.231850</td>\n",
       "      <td>0.53</td>\n",
       "    </tr>\n",
       "    <tr>\n",
       "      <th>10</th>\n",
       "      <td>10301464.0</td>\n",
       "      <td>500000.0</td>\n",
       "      <td>0.06</td>\n",
       "      <td>0.232503</td>\n",
       "      <td>0.62</td>\n",
       "    </tr>\n",
       "    <tr>\n",
       "      <th>11</th>\n",
       "      <td>11044424.0</td>\n",
       "      <td>550000.0</td>\n",
       "      <td>0.13</td>\n",
       "      <td>0.271715</td>\n",
       "      <td>0.58</td>\n",
       "    </tr>\n",
       "    <tr>\n",
       "      <th>12</th>\n",
       "      <td>11772260.0</td>\n",
       "      <td>600000.0</td>\n",
       "      <td>0.10</td>\n",
       "      <td>0.248352</td>\n",
       "      <td>0.57</td>\n",
       "    </tr>\n",
       "    <tr>\n",
       "      <th>13</th>\n",
       "      <td>12477652.0</td>\n",
       "      <td>650000.0</td>\n",
       "      <td>0.05</td>\n",
       "      <td>0.209220</td>\n",
       "      <td>0.67</td>\n",
       "    </tr>\n",
       "    <tr>\n",
       "      <th>14</th>\n",
       "      <td>13160606.0</td>\n",
       "      <td>700000.0</td>\n",
       "      <td>0.03</td>\n",
       "      <td>0.220046</td>\n",
       "      <td>0.69</td>\n",
       "    </tr>\n",
       "    <tr>\n",
       "      <th>15</th>\n",
       "      <td>13824478.0</td>\n",
       "      <td>750000.0</td>\n",
       "      <td>0.04</td>\n",
       "      <td>0.206054</td>\n",
       "      <td>0.57</td>\n",
       "    </tr>\n",
       "    <tr>\n",
       "      <th>16</th>\n",
       "      <td>14480625.0</td>\n",
       "      <td>800000.0</td>\n",
       "      <td>0.06</td>\n",
       "      <td>0.208333</td>\n",
       "      <td>0.66</td>\n",
       "    </tr>\n",
       "    <tr>\n",
       "      <th>17</th>\n",
       "      <td>15116135.0</td>\n",
       "      <td>850000.0</td>\n",
       "      <td>0.05</td>\n",
       "      <td>0.215777</td>\n",
       "      <td>0.61</td>\n",
       "    </tr>\n",
       "    <tr>\n",
       "      <th>18</th>\n",
       "      <td>15742087.0</td>\n",
       "      <td>900000.0</td>\n",
       "      <td>0.11</td>\n",
       "      <td>0.223224</td>\n",
       "      <td>0.58</td>\n",
       "    </tr>\n",
       "    <tr>\n",
       "      <th>19</th>\n",
       "      <td>16349084.0</td>\n",
       "      <td>950000.0</td>\n",
       "      <td>0.05</td>\n",
       "      <td>0.200000</td>\n",
       "      <td>0.65</td>\n",
       "    </tr>\n",
       "    <tr>\n",
       "      <th>20</th>\n",
       "      <td>16950265.0</td>\n",
       "      <td>1000000.0</td>\n",
       "      <td>0.05</td>\n",
       "      <td>0.208238</td>\n",
       "      <td>0.58</td>\n",
       "    </tr>\n",
       "  </tbody>\n",
       "</table>\n",
       "</div>"
      ],
      "text/plain": [
       "    Q_function_size  iteration  tie_rate  unexplored_states_rate  win_rate\n",
       "0              75.0        0.0      0.05                0.881264      0.54\n",
       "1         1681949.0    50000.0      0.11                0.438095      0.61\n",
       "2         2955782.0   100000.0      0.11                0.323133      0.59\n",
       "3         4088422.0   150000.0      0.03                0.321918      0.52\n",
       "4         5127325.0   200000.0      0.12                0.284890      0.65\n",
       "5         6098030.0   250000.0      0.09                0.285714      0.60\n",
       "6         7016542.0   300000.0      0.09                0.271186      0.58\n",
       "7         7893249.0   350000.0      0.09                0.275822      0.64\n",
       "8         8725296.0   400000.0      0.13                0.253179      0.61\n",
       "9         9528309.0   450000.0      0.06                0.231850      0.53\n",
       "10       10301464.0   500000.0      0.06                0.232503      0.62\n",
       "11       11044424.0   550000.0      0.13                0.271715      0.58\n",
       "12       11772260.0   600000.0      0.10                0.248352      0.57\n",
       "13       12477652.0   650000.0      0.05                0.209220      0.67\n",
       "14       13160606.0   700000.0      0.03                0.220046      0.69\n",
       "15       13824478.0   750000.0      0.04                0.206054      0.57\n",
       "16       14480625.0   800000.0      0.06                0.208333      0.66\n",
       "17       15116135.0   850000.0      0.05                0.215777      0.61\n",
       "18       15742087.0   900000.0      0.11                0.223224      0.58\n",
       "19       16349084.0   950000.0      0.05                0.200000      0.65\n",
       "20       16950265.0  1000000.0      0.05                0.208238      0.58"
      ]
     },
     "execution_count": 5,
     "metadata": {},
     "output_type": "execute_result"
    }
   ],
   "source": [
    "experiment_name = \"first_experiment\"\n",
    "df_path = \"experiments/{}/training_df.p\".format(experiment_name)\n",
    "f = pd.read_pickle(df_path)\n",
    "f"
   ]
  },
  {
   "cell_type": "code",
   "execution_count": 38,
   "metadata": {
    "ExecuteTime": {
     "end_time": "2020-06-11T11:40:00.204654Z",
     "start_time": "2020-06-11T11:39:59.978483Z"
    }
   },
   "outputs": [
    {
     "name": "stdout",
     "output_type": "stream",
     "text": [
      "|  .  .  .  .  .  |\n",
      "|  .  .  .  x  .  |\n",
      "|  .  .  .  x  .  |\n",
      "|  o  o  o  x  .  |\n",
      "===================\n",
      "[['0', '0', '0', '0', '0'], ['0', '0', '0', '2', '0'], ['0', '0', '0', '2', '0'], ['1', '1', '1', '2', '0']]\n",
      "0 0 0 0 0\n",
      "0 0 0 2 0\n",
      "0 0 0 2 0\n",
      "1 1 1 2 0\n",
      "3\n",
      "<class 'int'>\n"
     ]
    }
   ],
   "source": [
    "import sys\n",
    "# insert at 1, 0 is the script path (or '' in REPL)\n",
    "sys.path.insert(1, 'MCTS/connect4/src')\n",
    "\n",
    "from tournament import Tournament\n",
    "from mcts.mcts_strategy import MctsStrategy\n",
    "from game import Game\n",
    "from player import Player\n",
    "from board import Board\n",
    "\n",
    "# converts 2d tuple to 2d array\n",
    "def tuple2array(tup):\n",
    "    # str\n",
    "    return [[str(t2) for t2 in t] for t in tup]\n",
    "            \n",
    "\n",
    "cf = connect_four.ConnectFour(5,4)\n",
    "cf.update_board(0,1)\n",
    "cf.update_board(1,1)\n",
    "cf.update_board(2,1)\n",
    "cf.update_board(3,2)\n",
    "cf.update_board(3,2)\n",
    "cf.update_board(3,2)\n",
    "cf.print_board()\n",
    "state_tuple = tuple(tuple(a) for a in cf.board_state)\n",
    "\n",
    "\n",
    "state_arr = tuple2array(state_tuple)\n",
    "print(state_arr)\n",
    "b = Board(5,4)\n",
    "b.board = state_arr[::-1]\n",
    "print(b)\n",
    "\n",
    "p1 = Player('1')\n",
    "p2 = Player('2')\n",
    "\n",
    "players = [p1, p2]\n",
    "game_number = 1\n",
    "g = Game(b, players, game_number)\n",
    "playerid = '2'\n",
    "mcts_s = MctsStrategy(1000)\n",
    "move = mcts_s.move(g, playerid)\n",
    "print(move)\n",
    "print(type(move))"
   ]
  },
  {
   "cell_type": "code",
   "execution_count": 15,
   "metadata": {
    "ExecuteTime": {
     "end_time": "2020-06-11T11:05:52.476595Z",
     "start_time": "2020-06-11T11:05:52.460526Z"
    }
   },
   "outputs": [
    {
     "data": {
      "text/plain": [
       "3"
      ]
     },
     "execution_count": 15,
     "metadata": {},
     "output_type": "execute_result"
    }
   ],
   "source": [
    "len((1,2,3))"
   ]
  },
  {
   "cell_type": "code",
   "execution_count": null,
   "metadata": {},
   "outputs": [],
   "source": []
  },
  {
   "cell_type": "code",
   "execution_count": null,
   "metadata": {},
   "outputs": [],
   "source": []
  },
  {
   "cell_type": "code",
   "execution_count": null,
   "metadata": {},
   "outputs": [],
   "source": []
  },
  {
   "cell_type": "code",
   "execution_count": null,
   "metadata": {},
   "outputs": [],
   "source": []
  }
 ],
 "metadata": {
  "kernelspec": {
   "display_name": "Python 3",
   "language": "python",
   "name": "python3"
  },
  "language_info": {
   "codemirror_mode": {
    "name": "ipython",
    "version": 3
   },
   "file_extension": ".py",
   "mimetype": "text/x-python",
   "name": "python",
   "nbconvert_exporter": "python",
   "pygments_lexer": "ipython3",
   "version": "3.7.4"
  }
 },
 "nbformat": 4,
 "nbformat_minor": 4
}
